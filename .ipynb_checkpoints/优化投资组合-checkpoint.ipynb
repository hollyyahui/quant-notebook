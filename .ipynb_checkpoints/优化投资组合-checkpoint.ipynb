{
 "cells": [
  {
   "cell_type": "markdown",
   "metadata": {},
   "source": [
    "## 优化投资组合\n",
    "\n",
    "### 1. 什么是投资组合？\n",
    "投资组合是由不同投资产品（包括股票、债券等）组成的集合，目的是为了分散风险。  \n",
    "我们给不同标的不同的权重 $w_i$, $i=1, \\ldots, n$"
   ]
  },
  {
   "cell_type": "markdown",
   "metadata": {},
   "source": [
    "### 2. 投资组合的收益及风险\n",
    "\n",
    "把标的的价格变化看做随机变量，以它的期望值/均值来衡量收益，以它的方差来衡量风险。  \n",
    "\n",
    "对于单支股票：  \n",
    "- 收益率是一个随机变量\n",
    "- 期望值（均值）： ${\\bf E}(r) = \\mu$ \n",
    "- 方差：${\\bf (r_1-\\mu)^2 + (r_2-\\mu)^2 + \\ldots + (r_n-\\mu)^2} = {\\bf E{(r-\\mu)(r-\\mu)^T}} = \\Sigma$\n",
    "\n",
    "两支股票的协方差：  \n",
    "$ Cov(r_1, r_2) = {\\bf E}[(r_1 - \\mu_1)(r_2 - \\mu_2)] $\n",
    "\n",
    "对于投资组合：  \n",
    "- 收益率是一个随机变量\n",
    "- 期望值（均值）： ${\\bf E}(R) = w_1\\mu_1 + w_2\\mu_2 + \\ldots + w_n\\mu_n = \\mu^T w$  \n",
    "- 方差：${\\bf Var}(R) = w^T\\Sigma w$\n",
    "\n",
    "以两支股票组成的投资组合为例：  \n",
    "$$ {\\bf E}(R) = w_1\\mu_1 + w_2\\mu_2 $$ \n",
    "\n",
    "$$ \\begin{equation}\n",
    "{\\bf E}(R)=\\left[\n",
    "\\begin{matrix}\n",
    "\\mu_1&\\mu_2&\n",
    "\\end{matrix}\\right]\n",
    "\\left[\n",
    "\\begin{matrix}\n",
    "w_1&\\\\\n",
    "w_2&\n",
    "\\end{matrix}\\right]\n",
    "\\end{equation} $$\n",
    "\n",
    "$${\\bf Var}(R) = w_1^2 Cov(r_1, r_1) + w_2^2 Cov(r_2, r_2) + 2w_1 w_2 Cov(r_1, r_2)$$\n",
    "\n",
    "$$\\begin{equation}\n",
    "{\\bf Var}(R)=\\left[\n",
    "\\begin{matrix}\n",
    "w_1&w_2&\n",
    "\\end{matrix}\n",
    "\\right]\n",
    "\\left[\n",
    "\\begin{matrix}\n",
    "Cov(r_1, r_1)&Cov(r_2, r_1)&\\\\\n",
    "Cov(r_1, r_2)&Cov(r_2, r_2)&\n",
    "\\end{matrix}\\right]\n",
    "\\left[\n",
    "\\begin{matrix}\n",
    "w_1&\\\\\n",
    "w_2&\n",
    "\\end{matrix}\\right]\n",
    "\\end{equation}$$"
   ]
  },
  {
   "cell_type": "markdown",
   "metadata": {},
   "source": [
    "### 3. 马科维茨投资组合理论\n",
    "**终极问题**：如何确定w，使得投资组合在收益率一定时，风险最小；也就是使得收益-风险最大化。  \n",
    "\\begin{array}{ll} \\mbox{maximize} & \\mu^T w - \\gamma w^T\\Sigma w\\\\\n",
    "\\mbox{subject to} & {\\bf 1}^T w = 1, \\quad w \\in {\\cal W},\n",
    "\\end{array}"
   ]
  },
  {
   "cell_type": "code",
   "execution_count": 1,
   "metadata": {},
   "outputs": [],
   "source": [
    "import tushare as ts\n",
    "import pandas as pd\n",
    "import numpy as np\n",
    "stock_list = ts.get_hs300s()\n",
    "return_dict = {}\n",
    "for symbol in stock_list['code']:\n",
    "    data = ts.get_hist_data(symbol, start='2017-01-01')\n",
    "    if data is not None:\n",
    "        return_dict[symbol] = data['p_change']"
   ]
  },
  {
   "cell_type": "code",
   "execution_count": 2,
   "metadata": {},
   "outputs": [
    {
     "data": {
      "text/html": [
       "<div>\n",
       "<style scoped>\n",
       "    .dataframe tbody tr th:only-of-type {\n",
       "        vertical-align: middle;\n",
       "    }\n",
       "\n",
       "    .dataframe tbody tr th {\n",
       "        vertical-align: top;\n",
       "    }\n",
       "\n",
       "    .dataframe thead th {\n",
       "        text-align: right;\n",
       "    }\n",
       "</style>\n",
       "<table border=\"1\" class=\"dataframe\">\n",
       "  <thead>\n",
       "    <tr style=\"text-align: right;\">\n",
       "      <th></th>\n",
       "      <th>000001</th>\n",
       "      <th>000002</th>\n",
       "      <th>000008</th>\n",
       "      <th>000060</th>\n",
       "      <th>000063</th>\n",
       "      <th>000069</th>\n",
       "      <th>000100</th>\n",
       "      <th>000157</th>\n",
       "      <th>000166</th>\n",
       "      <th>000333</th>\n",
       "      <th>...</th>\n",
       "      <th>601878</th>\n",
       "      <th>601881</th>\n",
       "      <th>601888</th>\n",
       "      <th>601898</th>\n",
       "      <th>601899</th>\n",
       "      <th>601901</th>\n",
       "      <th>601919</th>\n",
       "      <th>601933</th>\n",
       "      <th>601939</th>\n",
       "      <th>601958</th>\n",
       "    </tr>\n",
       "  </thead>\n",
       "  <tbody>\n",
       "    <tr>\n",
       "      <th>2017-01-03</th>\n",
       "      <td>0.66</td>\n",
       "      <td>0.88</td>\n",
       "      <td>0.21</td>\n",
       "      <td>1.26</td>\n",
       "      <td>1.57</td>\n",
       "      <td>0.29</td>\n",
       "      <td>3.94</td>\n",
       "      <td>0.00</td>\n",
       "      <td>0.0</td>\n",
       "      <td>3.37</td>\n",
       "      <td>...</td>\n",
       "      <td>0.0</td>\n",
       "      <td>0.0</td>\n",
       "      <td>0.02</td>\n",
       "      <td>0.69</td>\n",
       "      <td>0.60</td>\n",
       "      <td>1.58</td>\n",
       "      <td>0.76</td>\n",
       "      <td>2.24</td>\n",
       "      <td>0.92</td>\n",
       "      <td>1.05</td>\n",
       "    </tr>\n",
       "    <tr>\n",
       "      <th>2017-01-04</th>\n",
       "      <td>0.00</td>\n",
       "      <td>0.58</td>\n",
       "      <td>0.54</td>\n",
       "      <td>1.15</td>\n",
       "      <td>-0.31</td>\n",
       "      <td>0.29</td>\n",
       "      <td>-0.29</td>\n",
       "      <td>0.88</td>\n",
       "      <td>0.0</td>\n",
       "      <td>2.44</td>\n",
       "      <td>...</td>\n",
       "      <td>0.0</td>\n",
       "      <td>0.0</td>\n",
       "      <td>0.14</td>\n",
       "      <td>0.17</td>\n",
       "      <td>0.30</td>\n",
       "      <td>0.39</td>\n",
       "      <td>0.95</td>\n",
       "      <td>0.00</td>\n",
       "      <td>0.00</td>\n",
       "      <td>0.78</td>\n",
       "    </tr>\n",
       "    <tr>\n",
       "      <th>2017-01-05</th>\n",
       "      <td>0.11</td>\n",
       "      <td>0.38</td>\n",
       "      <td>0.21</td>\n",
       "      <td>0.70</td>\n",
       "      <td>-1.67</td>\n",
       "      <td>0.00</td>\n",
       "      <td>0.00</td>\n",
       "      <td>1.53</td>\n",
       "      <td>0.0</td>\n",
       "      <td>-0.47</td>\n",
       "      <td>...</td>\n",
       "      <td>0.0</td>\n",
       "      <td>0.0</td>\n",
       "      <td>0.71</td>\n",
       "      <td>0.34</td>\n",
       "      <td>1.19</td>\n",
       "      <td>-0.52</td>\n",
       "      <td>0.19</td>\n",
       "      <td>-0.40</td>\n",
       "      <td>0.00</td>\n",
       "      <td>0.26</td>\n",
       "    </tr>\n",
       "    <tr>\n",
       "      <th>2017-01-06</th>\n",
       "      <td>-0.44</td>\n",
       "      <td>-1.39</td>\n",
       "      <td>0.74</td>\n",
       "      <td>-1.22</td>\n",
       "      <td>-1.57</td>\n",
       "      <td>-0.86</td>\n",
       "      <td>-0.88</td>\n",
       "      <td>-0.65</td>\n",
       "      <td>0.0</td>\n",
       "      <td>-1.01</td>\n",
       "      <td>...</td>\n",
       "      <td>0.0</td>\n",
       "      <td>0.0</td>\n",
       "      <td>-0.39</td>\n",
       "      <td>-0.68</td>\n",
       "      <td>-0.88</td>\n",
       "      <td>-1.30</td>\n",
       "      <td>0.94</td>\n",
       "      <td>1.00</td>\n",
       "      <td>-0.55</td>\n",
       "      <td>-0.13</td>\n",
       "    </tr>\n",
       "    <tr>\n",
       "      <th>2017-01-09</th>\n",
       "      <td>0.22</td>\n",
       "      <td>0.10</td>\n",
       "      <td>0.53</td>\n",
       "      <td>0.70</td>\n",
       "      <td>-3.71</td>\n",
       "      <td>0.58</td>\n",
       "      <td>0.89</td>\n",
       "      <td>0.87</td>\n",
       "      <td>0.0</td>\n",
       "      <td>-0.48</td>\n",
       "      <td>...</td>\n",
       "      <td>0.0</td>\n",
       "      <td>0.0</td>\n",
       "      <td>-0.02</td>\n",
       "      <td>0.34</td>\n",
       "      <td>-0.30</td>\n",
       "      <td>0.39</td>\n",
       "      <td>0.93</td>\n",
       "      <td>0.40</td>\n",
       "      <td>0.18</td>\n",
       "      <td>0.64</td>\n",
       "    </tr>\n",
       "  </tbody>\n",
       "</table>\n",
       "<p>5 rows × 286 columns</p>\n",
       "</div>"
      ],
      "text/plain": [
       "            000001  000002  000008  000060  000063  000069  000100  000157  \\\n",
       "2017-01-03    0.66    0.88    0.21    1.26    1.57    0.29    3.94    0.00   \n",
       "2017-01-04    0.00    0.58    0.54    1.15   -0.31    0.29   -0.29    0.88   \n",
       "2017-01-05    0.11    0.38    0.21    0.70   -1.67    0.00    0.00    1.53   \n",
       "2017-01-06   -0.44   -1.39    0.74   -1.22   -1.57   -0.86   -0.88   -0.65   \n",
       "2017-01-09    0.22    0.10    0.53    0.70   -3.71    0.58    0.89    0.87   \n",
       "\n",
       "            000166  000333   ...    601878  601881  601888  601898  601899  \\\n",
       "2017-01-03     0.0    3.37   ...       0.0     0.0    0.02    0.69    0.60   \n",
       "2017-01-04     0.0    2.44   ...       0.0     0.0    0.14    0.17    0.30   \n",
       "2017-01-05     0.0   -0.47   ...       0.0     0.0    0.71    0.34    1.19   \n",
       "2017-01-06     0.0   -1.01   ...       0.0     0.0   -0.39   -0.68   -0.88   \n",
       "2017-01-09     0.0   -0.48   ...       0.0     0.0   -0.02    0.34   -0.30   \n",
       "\n",
       "            601901  601919  601933  601939  601958  \n",
       "2017-01-03    1.58    0.76    2.24    0.92    1.05  \n",
       "2017-01-04    0.39    0.95    0.00    0.00    0.78  \n",
       "2017-01-05   -0.52    0.19   -0.40    0.00    0.26  \n",
       "2017-01-06   -1.30    0.94    1.00   -0.55   -0.13  \n",
       "2017-01-09    0.39    0.93    0.40    0.18    0.64  \n",
       "\n",
       "[5 rows x 286 columns]"
      ]
     },
     "execution_count": 2,
     "metadata": {},
     "output_type": "execute_result"
    }
   ],
   "source": [
    "return_df = pd.DataFrame(return_dict)\n",
    "return_df.dropna(how='all', axis=1, inplace=True)\n",
    "return_df = return_df.replace([np.inf, -np.inf], np.nan)\n",
    "return_df.fillna(0, inplace=True)\n",
    "return_df.head()"
   ]
  },
  {
   "cell_type": "code",
   "execution_count": 3,
   "metadata": {},
   "outputs": [
    {
     "data": {
      "text/plain": [
       "((286, 1), (286, 286))"
      ]
     },
     "execution_count": 3,
     "metadata": {},
     "output_type": "execute_result"
    }
   ],
   "source": [
    "symbols = return_df.columns.values\n",
    "mu = return_df.mean().values\n",
    "mu.shape = (len(mu),1)\n",
    "Sigma = return_df.cov().values\n",
    "mu.shape, Sigma.shape"
   ]
  },
  {
   "cell_type": "code",
   "execution_count": 4,
   "metadata": {},
   "outputs": [
    {
     "data": {
      "text/plain": [
       "0.030808687756599062"
      ]
     },
     "execution_count": 4,
     "metadata": {},
     "output_type": "execute_result"
    }
   ],
   "source": [
    "import cvxpy as cvx\n",
    "w = cvx.Variable(len(symbols))\n",
    "gamma = 0.5\n",
    "ret = mu.T*w \n",
    "risk = cvx.quad_form(w, Sigma)\n",
    "prob = cvx.Problem(cvx.Maximize(ret - gamma*risk), \n",
    "               [cvx.sum(w) == 1, \n",
    "                w >= 0])\n",
    "prob.solve()"
   ]
  },
  {
   "cell_type": "code",
   "execution_count": 5,
   "metadata": {},
   "outputs": [
    {
     "data": {
      "text/plain": [
       "000001    3.424403e-11\n",
       "000002    2.912290e-10\n",
       "000008    3.864077e-11\n",
       "000060    1.825174e-11\n",
       "000063    1.008711e-10\n",
       "dtype: float64"
      ]
     },
     "execution_count": 5,
     "metadata": {},
     "output_type": "execute_result"
    }
   ],
   "source": [
    "pd.Series(w.value, index=symbols).head()"
   ]
  },
  {
   "cell_type": "code",
   "execution_count": 6,
   "metadata": {},
   "outputs": [
    {
     "data": {
      "text/plain": [
       "0.9999999999997032"
      ]
     },
     "execution_count": 6,
     "metadata": {},
     "output_type": "execute_result"
    }
   ],
   "source": [
    "sum(w.value)"
   ]
  },
  {
   "cell_type": "code",
   "execution_count": 7,
   "metadata": {},
   "outputs": [
    {
     "data": {
      "text/plain": [
       "array([0.14432115])"
      ]
     },
     "execution_count": 7,
     "metadata": {},
     "output_type": "execute_result"
    }
   ],
   "source": [
    "ret.value"
   ]
  },
  {
   "cell_type": "code",
   "execution_count": 8,
   "metadata": {},
   "outputs": [
    {
     "data": {
      "text/plain": [
       "0.22702491925342172"
      ]
     },
     "execution_count": 8,
     "metadata": {},
     "output_type": "execute_result"
    }
   ],
   "source": [
    "risk.value"
   ]
  },
  {
   "cell_type": "markdown",
   "metadata": {},
   "source": [
    "### 4. 市场中性的投资组合\n",
    "市场中性的投资组合，是不随市场的波动而波动的投资组合，也就是使得组合与市场之间相关系数为0，即两者协方差为0。  \n",
    "- ${\\bf Cov}(M, R) = m^T\\Sigma w$ = 0 (m为市场中各股的权重)\n",
    "\n",
    "以两支股票组成的投资组合为例：\n",
    "\n",
    "$${\\bf Cov}(M, R) = Cov(m_1 r_1+m_2 r_2, w_1 r_1+w_2 r_2)\\\\\n",
    "            = Cov(m_1 r_1, w_1 r_1+w_2 r_2) + Cov(m_2 r_2, w_1 r_1+w_2 r_2)\\\\\n",
    "            = Cov(m_1 r_1, w_1 r_1) + Cov(m_1 r_1, w_2 r_2) + Cov(m_2 r_2, w_1 r_1) + Cov(m_2 r_2, w_2 r_2)\\\\\n",
    "            = m_1 w_1 Cov(r_1, r_1) + m_1 w_2 Cov(r_1, r_2) + m_2 w_1 Cov(r_2, r_1) + m_2 w_2 Cov(r_2, r_2)$$\n",
    "\n",
    "$$\\begin{equation}\n",
    "{\\bf Cov}(M, R)=\\left[\n",
    "\\begin{matrix}\n",
    "m_1&m_2&\n",
    "\\end{matrix}\n",
    "\\right]\n",
    "\\left[\n",
    "\\begin{matrix}\n",
    "Cov(r_1, r_1)&Cov(r_2, r_1)&\\\\\n",
    "Cov(r_1, r_2)&Cov(r_2, r_2)&\n",
    "\\end{matrix}\\right]\n",
    "\\left[\n",
    "\\begin{matrix}\n",
    "w_1&\\\\\n",
    "w_2&\n",
    "\\end{matrix}\\right]\n",
    "\\end{equation}$$"
   ]
  },
  {
   "cell_type": "code",
   "execution_count": 9,
   "metadata": {},
   "outputs": [
    {
     "data": {
      "text/plain": [
       "(286,)"
      ]
     },
     "execution_count": 9,
     "metadata": {},
     "output_type": "execute_result"
    }
   ],
   "source": [
    "stock_list.set_index('code', inplace=True)\n",
    "market_weight = pd.Series(stock_list['weight'], index=symbols)\n",
    "m = market_weight.values\n",
    "m.shape"
   ]
  },
  {
   "cell_type": "code",
   "execution_count": 10,
   "metadata": {},
   "outputs": [
    {
     "data": {
      "text/plain": [
       "4.3683343916091525e-11"
      ]
     },
     "execution_count": 10,
     "metadata": {},
     "output_type": "execute_result"
    }
   ],
   "source": [
    "import cvxpy as cvx\n",
    "w = cvx.Variable(len(symbols))\n",
    "gamma = 0.5\n",
    "ret = mu.T*w \n",
    "risk = cvx.quad_form(w, Sigma)\n",
    "cov_MR = m.T*Sigma*w\n",
    "prob = cvx.Problem(cvx.Maximize(ret - gamma*risk), \n",
    "               [cvx.sum(w) <= 1, cov_MR == 0, w >= 0])\n",
    "prob.solve()"
   ]
  },
  {
   "cell_type": "code",
   "execution_count": 11,
   "metadata": {},
   "outputs": [
    {
     "data": {
      "text/plain": [
       "000001   -5.188573e-14\n",
       "000002    3.747884e-14\n",
       "000008    2.164068e-13\n",
       "000060    6.144296e-14\n",
       "000063   -1.532397e-14\n",
       "dtype: float64"
      ]
     },
     "execution_count": 11,
     "metadata": {},
     "output_type": "execute_result"
    }
   ],
   "source": [
    "pd.Series(w.value, index=symbols).head()"
   ]
  },
  {
   "cell_type": "code",
   "execution_count": 12,
   "metadata": {},
   "outputs": [
    {
     "data": {
      "text/plain": [
       "array([2.89615857e-13])"
      ]
     },
     "execution_count": 12,
     "metadata": {},
     "output_type": "execute_result"
    }
   ],
   "source": [
    "ret.value"
   ]
  },
  {
   "cell_type": "code",
   "execution_count": 13,
   "metadata": {},
   "outputs": [
    {
     "data": {
      "text/plain": [
       "1.0391530516688176e-21"
      ]
     },
     "execution_count": 13,
     "metadata": {},
     "output_type": "execute_result"
    }
   ],
   "source": [
    "risk.value"
   ]
  },
  {
   "cell_type": "markdown",
   "metadata": {},
   "source": [
    "### 5. 多因子模型\n",
    "#### 5.1 单支股票的多因子模型\n",
    "单支股票的收益率：  \n",
    "- $ r_j = x_{j1} f_1 + x_{j2} f_2 + \\ldots + x_{jk} f_k + u_j = X_jf+u_j$ （X为因子值，f为因子的权重，u为特质因子值）    \n",
    "\n",
    "股票的收益由两部分组成，一部分是可以共有因子的收益率$X_jf$, 一部分是各股特有的收益率$u_j$。我们需清晰的切分这两部分收益，因此$X_jf$和$u_j$的相关系数为0。    \n",
    "    \n",
    "单支股票的方差：  \n",
    "- $ {\\bf Var}(r_j) = Var(X_jf+u_j) = Var(X_jf) + Var(u_j) + 2Cov(X_jf, u) $ (其中f和u为随机变量)     \n",
    "\n",
    "因 $ Cov(X_jf, u) = 0$，所以 $ {\\bf Var}(r_j) = Var(X_jf) + Var(u_j) $。 也就是说股票的风险也由两部分组成，一部分是共有因子的风险，一部分是特异风险。"
   ]
  },
  {
   "cell_type": "markdown",
   "metadata": {},
   "source": [
    "#### 5.2 投资组合的多因子模型：    \n",
    "- 收益率： $ R_p = \\sum_{j=1}^N w_j * (\\sum_{k=1}^K f_kX_{jk} + u_j) = w^T (Xf + u)$     \n",
    "\n",
    "$$\\begin{equation}\n",
    "Xf + u =\n",
    "\\left[\\begin{matrix}\n",
    "r_1&\\\\\n",
    "r_2&\\\\\n",
    "\\ldots&\\\\\n",
    "r_j&\n",
    "\\end{matrix}\\right]_{N*1} = \n",
    "\\left[\\begin{matrix}\n",
    "X_{11}&X_{12}&\\ldots&X_{1k}&\\\\\n",
    "X_{21}&X_{22}&\\ldots&X_{2k}&\\\\\n",
    "\\ldots&\\ldots&\\ldots&\\ldots&\\\\\n",
    "X_{j1}&X_{j2}&\\ldots&X_{jk}&\n",
    "\\end{matrix}\\right]_{N*K} *  \n",
    "\\left[\\begin{matrix}\n",
    "f_1&\\\\\n",
    "f_2&\\\\\n",
    "\\ldots&\\\\\n",
    "f_k&\n",
    "\\end{matrix}\\right]_{K*1} + \n",
    "\\left[\\begin{matrix}\n",
    "u_1&\\\\\n",
    "u_2&\\\\\n",
    "\\ldots&\\\\\n",
    "u_j&\n",
    "\\end{matrix}\\right]_{N*1}\n",
    "\\end{equation}$$ \n",
    "    \n",
    "- 方差： ${\\bf Var}(R_p) = w^T\\Sigma w$, 其中 $\\Sigma = XFX^T + \\Delta$   \n",
    "\n",
    "$$\\begin{equation}\n",
    "\\Sigma =\n",
    "\\left[\\begin{matrix}\n",
    "Cov(r_1,r_1)&Cov(r_2,r_1)&\\ldots&Cov(r_j,r_1)&\\\\\n",
    "Cov(r_1,r_2)&Cov(r_2,r_2)&\\ldots&Cov(r_j,r_2)&\\\\\n",
    "\\ldots&\\ldots&\\ldots&\\ldots&\\\\\n",
    "Cov(r_1,r_j)&Cov(r_2,r_j)&\\ldots&Cov(r_j,r_j)&&\n",
    "\\end{matrix}\\right]_{N*N}\\\\ = \n",
    "\\left[\\begin{matrix}\n",
    "X_{11}&X_{12}&\\ldots&X_{1k}&\\\\\n",
    "X_{21}&X_{22}&\\ldots&X_{2k}&\\\\\n",
    "\\ldots&\\ldots&\\ldots&\\ldots&\\\\\n",
    "X_{j1}&X_{j2}&\\ldots&X_{jk}&\n",
    "\\end{matrix}\\right]_{N*K} *  \n",
    "\\left[\\begin{matrix}\n",
    "Cov(f_1,f_1)&Cov(f_2,f_1)&\\ldots&Cov(f_k,f_1)&\\\\\n",
    "Cov(f_1,f_2)&Cov(f_2,f_2)&\\ldots&Cov(f_k,f_2)&\\\\\n",
    "\\ldots&\\ldots&\\ldots&\\ldots&\\\\\n",
    "Cov(f_1,f_k)&Cov(f_2,f_k)&\\ldots&Cov(f_k,f_k)&&\n",
    "\\end{matrix}\\right]_{K*K} * \n",
    "\\left[\\begin{matrix}\n",
    "X_{11}&X_{21}&\\ldots&X_{j1}&\\\\\n",
    "X_{12}&X_{22}&\\ldots&X_{j2}&\\\\\n",
    "\\ldots&\\ldots&\\ldots&\\ldots&\\\\\n",
    "X_{1k}&X_{2k}&\\ldots&X_{jk}&\n",
    "\\end{matrix}\\right]_{K*N} + \n",
    "\\left[\\begin{matrix}\n",
    "Var(u_1)&0&\\ldots&0&\\\\\n",
    "0&Var(u_2)&\\ldots&0&\\\\\n",
    "\\ldots&\\ldots&\\ldots&\\ldots&\\\\\n",
    ".&0&\\ldots&Var(u_j)&\n",
    "\\end{matrix}\\right]_{N*N}\n",
    "\\end{equation}$$ \n",
    "   \n",
    "以两支股票组成的投资组合,两个因子的模型为例：    \n",
    "    \n",
    "$$\\begin{equation}\n",
    "XFX^T =\n",
    "\\left[\\begin{matrix}\n",
    "X_{11}&X_{12}&\\\\\n",
    "X_{21}&X_{22}&\n",
    "\\end{matrix}\\right] *  \n",
    "\\left[\\begin{matrix}\n",
    "Cov(f_1,f_1)&Cov(f_2,f_1)&\\\\\n",
    "Cov(f_1,f_2)&Cov(f_2,f_2)&\n",
    "\\end{matrix}\\right] * \n",
    "\\left[\\begin{matrix}\n",
    "X_{11}&X_{21}&\\\\\n",
    "X_{12}&X_{22}&\n",
    "\\end{matrix}\\right]\\\\\n",
    "=\\left[\\begin{matrix}\n",
    "X_{11}Cov(f_1,f_1)+X_{12}Cov(f_1,f_2),&X_{11}Cov(f_2,f_1)+X_{12}Cov(f_2,f_2)&\\\\\n",
    "X_{21}Cov(f_1,f_1)+X_{22}Cov(f_1,f_2),&X_{21}Cov(f_1,f_1)+X_{22}Cov(f_1,f_2)&\n",
    "\\end{matrix}\\right] * \n",
    "\\left[\\begin{matrix}\n",
    "X_{11}&X_{21}&\\\\\n",
    "X_{12}&X_{22}&\n",
    "\\end{matrix}\\right]\n",
    "\\end{equation}$$ "
   ]
  },
  {
   "cell_type": "markdown",
   "metadata": {},
   "source": [
    "$$ \\begin{equation}\n",
    "\\begin{matrix}\n",
    "X_{11}^2Cov(f_1,f_1)+2X_{12}X_{11}Cov(f_1,f_2)+X_{12}^2Cov(f_2,f_2),&X_{11}X_{21}Cov(f_1,f_1)+X_{12}X_{21}Cov(f_1,f_2)+X_{11}X_{22}Cov(f_2,f_1)+X_{12}X_{22}Cov(f_2,f_2)&\\\\\n",
    "X_{21}X_{11}Cov(f_1,f_1)+X_{22}X_{11}Cov(f_1,f_2)+X_{21}X_{12}Cov(f_2,f_1)+X_{22}X_{12}Cov(f_2,f_2),&X_{21}^2Cov(f_1,f_1)+2X_{22}X_{21}Cov(f_1,f_2)+X_{22}^2Cov(f_2,f_2)&\n",
    "\\end{matrix}\n",
    "\\end{equation}$$  "
   ]
  },
  {
   "cell_type": "markdown",
   "metadata": {},
   "source": [
    "分解开来看:  \n",
    "左上: $ X_{11}^2Cov(f_1,f_1)+2X_{12}X_{11}Cov(f_1,f_2)+X_{12}^2Cov(f_2,f_2) = Var(X_{11}f_1+X_{12}f_2)$    \n",
    "右下: $ X_{21}^2Cov(f_1,f_1)+2X_{22}X_{21}Cov(f_1,f_2)+X_{22}^2Cov(f_2,f_2) = Var(X_{21}f_1+X_{22}f_2)$    \n",
    "右上: $ X_{11}X_{21}Cov(f_1,f_1)+X_{12}X_{21}Cov(f_1,f_2)+X_{11}X_{22}Cov(f_2,f_1)+X_{12}X_{22}Cov(f_2,f_2)\\\\ \n",
    "    = Cov(X_{11}f_1,X_{21}f_1)+Cov(X_{21}f_1,X_{12}f_2)+Cov(X_{22}f_2,X_{11}f_1)+Cov(X_{12}f_2,X_{22}f_2)\\\\\n",
    "    = Cov(X_{11}f_1 + X_{12}f_2, X_{21}f_1 + X_{22}f_2)\\\\\n",
    "    = Cov(r_1, r_2)$    \n",
    "  \n",
    "因此:    \n",
    "$$\\begin{equation}\n",
    "XFX^T =\n",
    "\\left[\\begin{matrix}\n",
    "Var(X_{11}f_1+X_{12}f_2)&Cov(r_1, r_2)&\\\\\n",
    "Cov(r_1, r_2)&Var(X_{21}f_1+X_{22}f_2)&\n",
    "\\end{matrix}\\right]\n",
    "\\end{equation}$$    \n",
    "   \n",
    "$$\\begin{equation}\n",
    "XFX^T + \\Delta =\n",
    "\\left[\\begin{matrix}\n",
    "Var(X_{11}f_1+X_{12}f_2)&Cov(r_1, r_2)&\\\\\n",
    "Cov(r_1, r_2)&Var(X_{21}f_1+X_{22}f_2)&\n",
    "\\end{matrix}\\right] + \n",
    "\\left[\\begin{matrix}\n",
    "Var(u_1)&0&\\\\\n",
    "0&Var(u_2)&\n",
    "\\end{matrix}\\right]\\\\\n",
    "=\\left[\\begin{matrix}\n",
    "Var(X_{11}f_1+X_{12}f_2)+Var(u_1)&Cov(r_1, r_2)&\\\\\n",
    "Cov(r_1, r_2)&Var(X_{21}f_1+X_{22}f_2)+Var(u_2)&\n",
    "\\end{matrix}\\right]\\\\\n",
    "=\\left[\\begin{matrix}\n",
    "Var(r_1)&Cov(r_2, r_1)&\\\\\n",
    "Cov(r_1, r_2)&Var(r_2)&\n",
    "\\end{matrix}\\right]\n",
    "\\end{equation}$$ "
   ]
  },
  {
   "cell_type": "code",
   "execution_count": 14,
   "metadata": {},
   "outputs": [
    {
     "name": "stderr",
     "output_type": "stream",
     "text": [
      "/home/user/anaconda3/lib/python3.6/site-packages/ipykernel_launcher.py:16: SettingWithCopyWarning: \n",
      "A value is trying to be set on a copy of a slice from a DataFrame.\n",
      "Try using .loc[row_indexer,col_indexer] = value instead\n",
      "\n",
      "See the caveats in the documentation: http://pandas.pydata.org/pandas-docs/stable/indexing.html#indexing-view-versus-copy\n",
      "  app.launch_new_instance()\n"
     ]
    }
   ],
   "source": [
    "data_dict = {}\n",
    "basic_data = ts.get_stock_basics()\n",
    "for symbol in stock_list.index.values:\n",
    "    data = ts.get_hist_data(symbol, start='2018-05-01')\n",
    "    if data is not None:\n",
    "        data['eps'] = basic_data.loc[symbol,'esp']\n",
    "        data['pe'] = data['close']/data['eps']\n",
    "        data['shares']=basic_data.loc[symbol,'outstanding']\n",
    "        data['market_cap'] = data['shares']*data['close']\n",
    "        data.sort_index(inplace=True)\n",
    "        data['high_low'] = (data['high'] - data['low'])/data['low']\n",
    "        data['turnover_mean_5'] = data['turnover'].rolling(window=5).mean()\n",
    "        data['p_std_5'] = data['p_change'].rolling(window=5).std()\n",
    "        data['ma5_10'] = (data['ma5'] - data['ma10'])/data['ma10']\n",
    "        hist_data = data[['p_change','high_low','turnover_mean_5','p_std_5','ma5_10','eps','market_cap']]\n",
    "        hist_data['p_change'] = hist_data['p_change'].shift(-1)\n",
    "        data_dict[symbol] = hist_data[4:-1]"
   ]
  },
  {
   "cell_type": "code",
   "execution_count": 15,
   "metadata": {},
   "outputs": [
    {
     "name": "stderr",
     "output_type": "stream",
     "text": [
      "/home/user/anaconda3/lib/python3.6/site-packages/pandas/core/panel.py:728: FutureWarning: '.reindex_axis' is deprecated and will be removed in a future version. Use '.reindex' instead.\n",
      "  result = self.reindex_axis(new_ax, axis=axis)\n"
     ]
    },
    {
     "data": {
      "text/plain": [
       "<class 'pandas.core.panel.Panel'>\n",
       "Dimensions: 12 (items) x 287 (major_axis) x 7 (minor_axis)\n",
       "Items axis: 2018-05-08 to 2018-05-23\n",
       "Major_axis axis: 000001 to 601958\n",
       "Minor_axis axis: p_change to market_cap"
      ]
     },
     "execution_count": 15,
     "metadata": {},
     "output_type": "execute_result"
    }
   ],
   "source": [
    "panel = pd.Panel(data_dict)\n",
    "panel = panel.transpose(1,0,2)\n",
    "panel.dropna(how='all',inplace=True)\n",
    "panel.fillna(0,inplace=True)\n",
    "panel"
   ]
  },
  {
   "cell_type": "code",
   "execution_count": 39,
   "metadata": {},
   "outputs": [],
   "source": [
    "from sklearn.linear_model import LinearRegression\n",
    "factor_return = {}\n",
    "special_factor = {}\n",
    "model = LinearRegression()\n",
    "for dt in panel.items.values[:-1]:\n",
    "    daily_data = panel[dt]\n",
    "    daily_data['large_marketcap'] = daily_data['market_cap'].apply(lambda x:int(x > daily_data['market_cap'].quantile(.7)))\n",
    "    daily_data['small_marketcap'] = daily_data['market_cap'].apply(lambda x:int(x < daily_data['market_cap'].quantile(.3)))\n",
    "    y = np.array(daily_data[['p_change']])\n",
    "    x_data = daily_data.drop(columns=['p_change','market_cap'])\n",
    "    X = np.array(x_data)\n",
    "    model.fit(X, y)\n",
    "\n",
    "    coef = model.coef_\n",
    "    factor_return[dt] = pd.Series(coef[0], index=x_data.columns)\n",
    "    \n",
    "    Xf = np.dot(X, coef.T)\n",
    "    sf = y - Xf\n",
    "    special_factor[dt] = pd.Series(sf.T[0], index=x_data.index)"
   ]
  },
  {
   "cell_type": "code",
   "execution_count": 40,
   "metadata": {},
   "outputs": [
    {
     "data": {
      "text/html": [
       "<div>\n",
       "<style scoped>\n",
       "    .dataframe tbody tr th:only-of-type {\n",
       "        vertical-align: middle;\n",
       "    }\n",
       "\n",
       "    .dataframe tbody tr th {\n",
       "        vertical-align: top;\n",
       "    }\n",
       "\n",
       "    .dataframe thead th {\n",
       "        text-align: right;\n",
       "    }\n",
       "</style>\n",
       "<table border=\"1\" class=\"dataframe\">\n",
       "  <thead>\n",
       "    <tr style=\"text-align: right;\">\n",
       "      <th></th>\n",
       "      <th>high_low</th>\n",
       "      <th>turnover_mean_5</th>\n",
       "      <th>p_std_5</th>\n",
       "      <th>ma5_10</th>\n",
       "      <th>eps</th>\n",
       "      <th>large_marketcap</th>\n",
       "      <th>small_marketcap</th>\n",
       "    </tr>\n",
       "  </thead>\n",
       "  <tbody>\n",
       "    <tr>\n",
       "      <th>2018-05-08</th>\n",
       "      <td>6.629526</td>\n",
       "      <td>-0.181045</td>\n",
       "      <td>-0.027842</td>\n",
       "      <td>8.443576</td>\n",
       "      <td>0.109345</td>\n",
       "      <td>-0.139176</td>\n",
       "      <td>0.055658</td>\n",
       "    </tr>\n",
       "    <tr>\n",
       "      <th>2018-05-09</th>\n",
       "      <td>5.304294</td>\n",
       "      <td>0.001881</td>\n",
       "      <td>-0.210496</td>\n",
       "      <td>17.564225</td>\n",
       "      <td>0.254441</td>\n",
       "      <td>-0.173622</td>\n",
       "      <td>-0.292922</td>\n",
       "    </tr>\n",
       "    <tr>\n",
       "      <th>2018-05-10</th>\n",
       "      <td>-26.164908</td>\n",
       "      <td>0.055275</td>\n",
       "      <td>0.090967</td>\n",
       "      <td>-8.901780</td>\n",
       "      <td>0.134671</td>\n",
       "      <td>0.049632</td>\n",
       "      <td>0.045309</td>\n",
       "    </tr>\n",
       "    <tr>\n",
       "      <th>2018-05-11</th>\n",
       "      <td>16.289434</td>\n",
       "      <td>-0.303637</td>\n",
       "      <td>-0.208229</td>\n",
       "      <td>24.597351</td>\n",
       "      <td>0.360742</td>\n",
       "      <td>0.734446</td>\n",
       "      <td>-0.676845</td>\n",
       "    </tr>\n",
       "    <tr>\n",
       "      <th>2018-05-14</th>\n",
       "      <td>21.218283</td>\n",
       "      <td>-0.034909</td>\n",
       "      <td>0.332691</td>\n",
       "      <td>-13.302759</td>\n",
       "      <td>0.001016</td>\n",
       "      <td>-0.606240</td>\n",
       "      <td>0.001485</td>\n",
       "    </tr>\n",
       "    <tr>\n",
       "      <th>2018-05-15</th>\n",
       "      <td>-17.147483</td>\n",
       "      <td>-0.185252</td>\n",
       "      <td>0.659326</td>\n",
       "      <td>1.068731</td>\n",
       "      <td>0.060719</td>\n",
       "      <td>-0.147527</td>\n",
       "      <td>0.585008</td>\n",
       "    </tr>\n",
       "    <tr>\n",
       "      <th>2018-05-16</th>\n",
       "      <td>8.511407</td>\n",
       "      <td>-0.234912</td>\n",
       "      <td>-0.319123</td>\n",
       "      <td>4.967584</td>\n",
       "      <td>-0.082890</td>\n",
       "      <td>-0.613034</td>\n",
       "      <td>0.243451</td>\n",
       "    </tr>\n",
       "    <tr>\n",
       "      <th>2018-05-17</th>\n",
       "      <td>2.362727</td>\n",
       "      <td>0.028116</td>\n",
       "      <td>-0.217224</td>\n",
       "      <td>7.986176</td>\n",
       "      <td>0.051115</td>\n",
       "      <td>0.160620</td>\n",
       "      <td>-0.208139</td>\n",
       "    </tr>\n",
       "    <tr>\n",
       "      <th>2018-05-18</th>\n",
       "      <td>-27.715760</td>\n",
       "      <td>0.089581</td>\n",
       "      <td>0.544773</td>\n",
       "      <td>-12.207668</td>\n",
       "      <td>-0.381505</td>\n",
       "      <td>-0.263753</td>\n",
       "      <td>0.028025</td>\n",
       "    </tr>\n",
       "    <tr>\n",
       "      <th>2018-05-21</th>\n",
       "      <td>-6.886727</td>\n",
       "      <td>0.271225</td>\n",
       "      <td>0.181292</td>\n",
       "      <td>16.004082</td>\n",
       "      <td>0.183822</td>\n",
       "      <td>-0.267998</td>\n",
       "      <td>0.197590</td>\n",
       "    </tr>\n",
       "    <tr>\n",
       "      <th>2018-05-22</th>\n",
       "      <td>15.951727</td>\n",
       "      <td>-0.440425</td>\n",
       "      <td>-0.382577</td>\n",
       "      <td>12.701493</td>\n",
       "      <td>-0.303668</td>\n",
       "      <td>-0.207494</td>\n",
       "      <td>0.211383</td>\n",
       "    </tr>\n",
       "  </tbody>\n",
       "</table>\n",
       "</div>"
      ],
      "text/plain": [
       "             high_low  turnover_mean_5   p_std_5     ma5_10       eps  \\\n",
       "2018-05-08   6.629526        -0.181045 -0.027842   8.443576  0.109345   \n",
       "2018-05-09   5.304294         0.001881 -0.210496  17.564225  0.254441   \n",
       "2018-05-10 -26.164908         0.055275  0.090967  -8.901780  0.134671   \n",
       "2018-05-11  16.289434        -0.303637 -0.208229  24.597351  0.360742   \n",
       "2018-05-14  21.218283        -0.034909  0.332691 -13.302759  0.001016   \n",
       "2018-05-15 -17.147483        -0.185252  0.659326   1.068731  0.060719   \n",
       "2018-05-16   8.511407        -0.234912 -0.319123   4.967584 -0.082890   \n",
       "2018-05-17   2.362727         0.028116 -0.217224   7.986176  0.051115   \n",
       "2018-05-18 -27.715760         0.089581  0.544773 -12.207668 -0.381505   \n",
       "2018-05-21  -6.886727         0.271225  0.181292  16.004082  0.183822   \n",
       "2018-05-22  15.951727        -0.440425 -0.382577  12.701493 -0.303668   \n",
       "\n",
       "            large_marketcap  small_marketcap  \n",
       "2018-05-08        -0.139176         0.055658  \n",
       "2018-05-09        -0.173622        -0.292922  \n",
       "2018-05-10         0.049632         0.045309  \n",
       "2018-05-11         0.734446        -0.676845  \n",
       "2018-05-14        -0.606240         0.001485  \n",
       "2018-05-15        -0.147527         0.585008  \n",
       "2018-05-16        -0.613034         0.243451  \n",
       "2018-05-17         0.160620        -0.208139  \n",
       "2018-05-18        -0.263753         0.028025  \n",
       "2018-05-21        -0.267998         0.197590  \n",
       "2018-05-22        -0.207494         0.211383  "
      ]
     },
     "execution_count": 40,
     "metadata": {},
     "output_type": "execute_result"
    }
   ],
   "source": [
    "factor_df = pd.DataFrame(factor_return)\n",
    "factor_df = factor_df.unstack().unstack()\n",
    "factor_df"
   ]
  },
  {
   "cell_type": "code",
   "execution_count": 41,
   "metadata": {},
   "outputs": [
    {
     "data": {
      "text/html": [
       "<div>\n",
       "<style scoped>\n",
       "    .dataframe tbody tr th:only-of-type {\n",
       "        vertical-align: middle;\n",
       "    }\n",
       "\n",
       "    .dataframe tbody tr th {\n",
       "        vertical-align: top;\n",
       "    }\n",
       "\n",
       "    .dataframe thead th {\n",
       "        text-align: right;\n",
       "    }\n",
       "</style>\n",
       "<table border=\"1\" class=\"dataframe\">\n",
       "  <thead>\n",
       "    <tr style=\"text-align: right;\">\n",
       "      <th></th>\n",
       "      <th>000001</th>\n",
       "      <th>000002</th>\n",
       "      <th>000008</th>\n",
       "      <th>000060</th>\n",
       "      <th>000063</th>\n",
       "      <th>000069</th>\n",
       "      <th>000100</th>\n",
       "      <th>000157</th>\n",
       "      <th>000166</th>\n",
       "      <th>000333</th>\n",
       "      <th>...</th>\n",
       "      <th>601878</th>\n",
       "      <th>601881</th>\n",
       "      <th>601888</th>\n",
       "      <th>601898</th>\n",
       "      <th>601899</th>\n",
       "      <th>601901</th>\n",
       "      <th>601919</th>\n",
       "      <th>601933</th>\n",
       "      <th>601939</th>\n",
       "      <th>601958</th>\n",
       "    </tr>\n",
       "  </thead>\n",
       "  <tbody>\n",
       "    <tr>\n",
       "      <th>2018-05-08</th>\n",
       "      <td>-0.072036</td>\n",
       "      <td>-1.484713</td>\n",
       "      <td>-0.235061</td>\n",
       "      <td>1.101673</td>\n",
       "      <td>-0.055658</td>\n",
       "      <td>0.271474</td>\n",
       "      <td>-1.224790</td>\n",
       "      <td>0.206520</td>\n",
       "      <td>-1.293697</td>\n",
       "      <td>0.042885</td>\n",
       "      <td>...</td>\n",
       "      <td>-0.760005</td>\n",
       "      <td>-1.882689</td>\n",
       "      <td>1.389157</td>\n",
       "      <td>-0.142824</td>\n",
       "      <td>0.013741</td>\n",
       "      <td>-0.818529</td>\n",
       "      <td>-0.547148</td>\n",
       "      <td>-1.464901</td>\n",
       "      <td>0.567608</td>\n",
       "      <td>-0.311556</td>\n",
       "    </tr>\n",
       "    <tr>\n",
       "      <th>2018-05-09</th>\n",
       "      <td>1.040126</td>\n",
       "      <td>0.633453</td>\n",
       "      <td>1.232421</td>\n",
       "      <td>0.733080</td>\n",
       "      <td>0.292922</td>\n",
       "      <td>2.390472</td>\n",
       "      <td>-0.244705</td>\n",
       "      <td>0.398284</td>\n",
       "      <td>0.768736</td>\n",
       "      <td>1.041402</td>\n",
       "      <td>...</td>\n",
       "      <td>0.787154</td>\n",
       "      <td>2.352083</td>\n",
       "      <td>2.674051</td>\n",
       "      <td>0.596617</td>\n",
       "      <td>1.490754</td>\n",
       "      <td>0.896051</td>\n",
       "      <td>0.091467</td>\n",
       "      <td>0.975607</td>\n",
       "      <td>0.163857</td>\n",
       "      <td>0.046565</td>\n",
       "    </tr>\n",
       "    <tr>\n",
       "      <th>2018-05-10</th>\n",
       "      <td>0.125256</td>\n",
       "      <td>-0.099808</td>\n",
       "      <td>-1.382545</td>\n",
       "      <td>0.154272</td>\n",
       "      <td>-0.045309</td>\n",
       "      <td>-0.763896</td>\n",
       "      <td>-0.576452</td>\n",
       "      <td>-0.585703</td>\n",
       "      <td>-0.043443</td>\n",
       "      <td>-1.065672</td>\n",
       "      <td>...</td>\n",
       "      <td>-1.659382</td>\n",
       "      <td>-1.309359</td>\n",
       "      <td>0.322823</td>\n",
       "      <td>0.231583</td>\n",
       "      <td>0.538879</td>\n",
       "      <td>0.083947</td>\n",
       "      <td>-1.747306</td>\n",
       "      <td>-0.489649</td>\n",
       "      <td>2.482316</td>\n",
       "      <td>0.699032</td>\n",
       "    </tr>\n",
       "    <tr>\n",
       "      <th>2018-05-11</th>\n",
       "      <td>0.725688</td>\n",
       "      <td>-0.489592</td>\n",
       "      <td>0.165032</td>\n",
       "      <td>0.201731</td>\n",
       "      <td>0.676845</td>\n",
       "      <td>-2.038016</td>\n",
       "      <td>0.165445</td>\n",
       "      <td>-0.076647</td>\n",
       "      <td>-0.686461</td>\n",
       "      <td>1.368189</td>\n",
       "      <td>...</td>\n",
       "      <td>1.105247</td>\n",
       "      <td>1.053764</td>\n",
       "      <td>0.459093</td>\n",
       "      <td>-1.671341</td>\n",
       "      <td>-1.234602</td>\n",
       "      <td>-0.533858</td>\n",
       "      <td>1.104090</td>\n",
       "      <td>-0.479147</td>\n",
       "      <td>-0.725804</td>\n",
       "      <td>-0.727470</td>\n",
       "    </tr>\n",
       "    <tr>\n",
       "      <th>2018-05-14</th>\n",
       "      <td>-0.475686</td>\n",
       "      <td>-1.065735</td>\n",
       "      <td>2.255674</td>\n",
       "      <td>-0.169392</td>\n",
       "      <td>-0.001485</td>\n",
       "      <td>0.085775</td>\n",
       "      <td>-0.768604</td>\n",
       "      <td>1.622801</td>\n",
       "      <td>0.085008</td>\n",
       "      <td>-0.353812</td>\n",
       "      <td>...</td>\n",
       "      <td>0.043173</td>\n",
       "      <td>-1.692649</td>\n",
       "      <td>0.492602</td>\n",
       "      <td>-0.341226</td>\n",
       "      <td>-1.086088</td>\n",
       "      <td>1.107389</td>\n",
       "      <td>0.761573</td>\n",
       "      <td>-0.065435</td>\n",
       "      <td>-0.085187</td>\n",
       "      <td>1.163824</td>\n",
       "    </tr>\n",
       "    <tr>\n",
       "      <th>2018-05-15</th>\n",
       "      <td>-2.062849</td>\n",
       "      <td>-1.573116</td>\n",
       "      <td>1.239115</td>\n",
       "      <td>-1.517447</td>\n",
       "      <td>-0.585008</td>\n",
       "      <td>-1.180884</td>\n",
       "      <td>-0.995033</td>\n",
       "      <td>-1.128306</td>\n",
       "      <td>-1.402017</td>\n",
       "      <td>-1.926268</td>\n",
       "      <td>...</td>\n",
       "      <td>-2.259305</td>\n",
       "      <td>-2.730870</td>\n",
       "      <td>-1.728817</td>\n",
       "      <td>0.201030</td>\n",
       "      <td>-2.014222</td>\n",
       "      <td>-1.702804</td>\n",
       "      <td>-0.429831</td>\n",
       "      <td>1.113015</td>\n",
       "      <td>-1.578831</td>\n",
       "      <td>1.309313</td>\n",
       "    </tr>\n",
       "    <tr>\n",
       "      <th>2018-05-16</th>\n",
       "      <td>0.239660</td>\n",
       "      <td>-0.861810</td>\n",
       "      <td>0.553610</td>\n",
       "      <td>0.050016</td>\n",
       "      <td>-0.243451</td>\n",
       "      <td>0.252314</td>\n",
       "      <td>-1.021356</td>\n",
       "      <td>-0.109398</td>\n",
       "      <td>-0.032154</td>\n",
       "      <td>-1.285585</td>\n",
       "      <td>...</td>\n",
       "      <td>0.406657</td>\n",
       "      <td>0.645362</td>\n",
       "      <td>-0.625887</td>\n",
       "      <td>-0.902623</td>\n",
       "      <td>0.037356</td>\n",
       "      <td>-0.038589</td>\n",
       "      <td>-0.750150</td>\n",
       "      <td>-1.728328</td>\n",
       "      <td>0.649740</td>\n",
       "      <td>-1.398199</td>\n",
       "    </tr>\n",
       "    <tr>\n",
       "      <th>2018-05-17</th>\n",
       "      <td>1.302319</td>\n",
       "      <td>1.342706</td>\n",
       "      <td>6.937477</td>\n",
       "      <td>2.167359</td>\n",
       "      <td>0.208139</td>\n",
       "      <td>1.134158</td>\n",
       "      <td>0.764916</td>\n",
       "      <td>0.893686</td>\n",
       "      <td>0.592248</td>\n",
       "      <td>1.522066</td>\n",
       "      <td>...</td>\n",
       "      <td>1.648567</td>\n",
       "      <td>1.136444</td>\n",
       "      <td>0.870938</td>\n",
       "      <td>3.609010</td>\n",
       "      <td>1.016526</td>\n",
       "      <td>1.327771</td>\n",
       "      <td>4.105065</td>\n",
       "      <td>-1.379945</td>\n",
       "      <td>1.786855</td>\n",
       "      <td>2.231569</td>\n",
       "    </tr>\n",
       "    <tr>\n",
       "      <th>2018-05-18</th>\n",
       "      <td>0.015977</td>\n",
       "      <td>-0.243951</td>\n",
       "      <td>0.561759</td>\n",
       "      <td>-0.926982</td>\n",
       "      <td>-0.028025</td>\n",
       "      <td>0.089462</td>\n",
       "      <td>1.005680</td>\n",
       "      <td>0.216773</td>\n",
       "      <td>1.109495</td>\n",
       "      <td>0.406341</td>\n",
       "      <td>...</td>\n",
       "      <td>0.581730</td>\n",
       "      <td>0.224883</td>\n",
       "      <td>1.742976</td>\n",
       "      <td>-0.148184</td>\n",
       "      <td>0.723986</td>\n",
       "      <td>0.108084</td>\n",
       "      <td>8.130407</td>\n",
       "      <td>1.847611</td>\n",
       "      <td>-0.695522</td>\n",
       "      <td>0.260667</td>\n",
       "    </tr>\n",
       "    <tr>\n",
       "      <th>2018-05-21</th>\n",
       "      <td>-0.756485</td>\n",
       "      <td>-0.975006</td>\n",
       "      <td>-2.936934</td>\n",
       "      <td>1.784638</td>\n",
       "      <td>-0.197590</td>\n",
       "      <td>-0.485782</td>\n",
       "      <td>-0.359494</td>\n",
       "      <td>-0.333434</td>\n",
       "      <td>-0.176303</td>\n",
       "      <td>-2.544747</td>\n",
       "      <td>...</td>\n",
       "      <td>0.088702</td>\n",
       "      <td>-0.747286</td>\n",
       "      <td>0.180805</td>\n",
       "      <td>-0.903253</td>\n",
       "      <td>-0.865999</td>\n",
       "      <td>-1.186443</td>\n",
       "      <td>-0.712399</td>\n",
       "      <td>2.611090</td>\n",
       "      <td>-2.150540</td>\n",
       "      <td>-1.671896</td>\n",
       "    </tr>\n",
       "    <tr>\n",
       "      <th>2018-05-22</th>\n",
       "      <td>-1.186967</td>\n",
       "      <td>1.168645</td>\n",
       "      <td>-1.028601</td>\n",
       "      <td>-0.254362</td>\n",
       "      <td>-0.211383</td>\n",
       "      <td>-1.343565</td>\n",
       "      <td>-0.048437</td>\n",
       "      <td>-0.716216</td>\n",
       "      <td>-0.088681</td>\n",
       "      <td>-0.788298</td>\n",
       "      <td>...</td>\n",
       "      <td>-1.095461</td>\n",
       "      <td>-0.820813</td>\n",
       "      <td>-0.208340</td>\n",
       "      <td>-1.937870</td>\n",
       "      <td>0.344122</td>\n",
       "      <td>-0.608393</td>\n",
       "      <td>-2.152183</td>\n",
       "      <td>-0.344234</td>\n",
       "      <td>-0.395085</td>\n",
       "      <td>-2.373933</td>\n",
       "    </tr>\n",
       "  </tbody>\n",
       "</table>\n",
       "<p>11 rows × 287 columns</p>\n",
       "</div>"
      ],
      "text/plain": [
       "              000001    000002    000008    000060    000063    000069  \\\n",
       "2018-05-08 -0.072036 -1.484713 -0.235061  1.101673 -0.055658  0.271474   \n",
       "2018-05-09  1.040126  0.633453  1.232421  0.733080  0.292922  2.390472   \n",
       "2018-05-10  0.125256 -0.099808 -1.382545  0.154272 -0.045309 -0.763896   \n",
       "2018-05-11  0.725688 -0.489592  0.165032  0.201731  0.676845 -2.038016   \n",
       "2018-05-14 -0.475686 -1.065735  2.255674 -0.169392 -0.001485  0.085775   \n",
       "2018-05-15 -2.062849 -1.573116  1.239115 -1.517447 -0.585008 -1.180884   \n",
       "2018-05-16  0.239660 -0.861810  0.553610  0.050016 -0.243451  0.252314   \n",
       "2018-05-17  1.302319  1.342706  6.937477  2.167359  0.208139  1.134158   \n",
       "2018-05-18  0.015977 -0.243951  0.561759 -0.926982 -0.028025  0.089462   \n",
       "2018-05-21 -0.756485 -0.975006 -2.936934  1.784638 -0.197590 -0.485782   \n",
       "2018-05-22 -1.186967  1.168645 -1.028601 -0.254362 -0.211383 -1.343565   \n",
       "\n",
       "              000100    000157    000166    000333    ...       601878  \\\n",
       "2018-05-08 -1.224790  0.206520 -1.293697  0.042885    ...    -0.760005   \n",
       "2018-05-09 -0.244705  0.398284  0.768736  1.041402    ...     0.787154   \n",
       "2018-05-10 -0.576452 -0.585703 -0.043443 -1.065672    ...    -1.659382   \n",
       "2018-05-11  0.165445 -0.076647 -0.686461  1.368189    ...     1.105247   \n",
       "2018-05-14 -0.768604  1.622801  0.085008 -0.353812    ...     0.043173   \n",
       "2018-05-15 -0.995033 -1.128306 -1.402017 -1.926268    ...    -2.259305   \n",
       "2018-05-16 -1.021356 -0.109398 -0.032154 -1.285585    ...     0.406657   \n",
       "2018-05-17  0.764916  0.893686  0.592248  1.522066    ...     1.648567   \n",
       "2018-05-18  1.005680  0.216773  1.109495  0.406341    ...     0.581730   \n",
       "2018-05-21 -0.359494 -0.333434 -0.176303 -2.544747    ...     0.088702   \n",
       "2018-05-22 -0.048437 -0.716216 -0.088681 -0.788298    ...    -1.095461   \n",
       "\n",
       "              601881    601888    601898    601899    601901    601919  \\\n",
       "2018-05-08 -1.882689  1.389157 -0.142824  0.013741 -0.818529 -0.547148   \n",
       "2018-05-09  2.352083  2.674051  0.596617  1.490754  0.896051  0.091467   \n",
       "2018-05-10 -1.309359  0.322823  0.231583  0.538879  0.083947 -1.747306   \n",
       "2018-05-11  1.053764  0.459093 -1.671341 -1.234602 -0.533858  1.104090   \n",
       "2018-05-14 -1.692649  0.492602 -0.341226 -1.086088  1.107389  0.761573   \n",
       "2018-05-15 -2.730870 -1.728817  0.201030 -2.014222 -1.702804 -0.429831   \n",
       "2018-05-16  0.645362 -0.625887 -0.902623  0.037356 -0.038589 -0.750150   \n",
       "2018-05-17  1.136444  0.870938  3.609010  1.016526  1.327771  4.105065   \n",
       "2018-05-18  0.224883  1.742976 -0.148184  0.723986  0.108084  8.130407   \n",
       "2018-05-21 -0.747286  0.180805 -0.903253 -0.865999 -1.186443 -0.712399   \n",
       "2018-05-22 -0.820813 -0.208340 -1.937870  0.344122 -0.608393 -2.152183   \n",
       "\n",
       "              601933    601939    601958  \n",
       "2018-05-08 -1.464901  0.567608 -0.311556  \n",
       "2018-05-09  0.975607  0.163857  0.046565  \n",
       "2018-05-10 -0.489649  2.482316  0.699032  \n",
       "2018-05-11 -0.479147 -0.725804 -0.727470  \n",
       "2018-05-14 -0.065435 -0.085187  1.163824  \n",
       "2018-05-15  1.113015 -1.578831  1.309313  \n",
       "2018-05-16 -1.728328  0.649740 -1.398199  \n",
       "2018-05-17 -1.379945  1.786855  2.231569  \n",
       "2018-05-18  1.847611 -0.695522  0.260667  \n",
       "2018-05-21  2.611090 -2.150540 -1.671896  \n",
       "2018-05-22 -0.344234 -0.395085 -2.373933  \n",
       "\n",
       "[11 rows x 287 columns]"
      ]
     },
     "execution_count": 41,
     "metadata": {},
     "output_type": "execute_result"
    }
   ],
   "source": [
    "sp_factor_df = pd.DataFrame(special_factor)\n",
    "sp_factor_df = sp_factor_df.unstack().unstack()\n",
    "sp_factor_df"
   ]
  },
  {
   "cell_type": "code",
   "execution_count": 42,
   "metadata": {},
   "outputs": [
    {
     "data": {
      "text/html": [
       "<div>\n",
       "<style scoped>\n",
       "    .dataframe tbody tr th:only-of-type {\n",
       "        vertical-align: middle;\n",
       "    }\n",
       "\n",
       "    .dataframe tbody tr th {\n",
       "        vertical-align: top;\n",
       "    }\n",
       "\n",
       "    .dataframe thead th {\n",
       "        text-align: right;\n",
       "    }\n",
       "</style>\n",
       "<table border=\"1\" class=\"dataframe\">\n",
       "  <thead>\n",
       "    <tr style=\"text-align: right;\">\n",
       "      <th></th>\n",
       "      <th>high_low</th>\n",
       "      <th>turnover_mean_5</th>\n",
       "      <th>p_std_5</th>\n",
       "      <th>ma5_10</th>\n",
       "      <th>eps</th>\n",
       "      <th>large_marketcap</th>\n",
       "      <th>small_marketcap</th>\n",
       "    </tr>\n",
       "  </thead>\n",
       "  <tbody>\n",
       "    <tr>\n",
       "      <th>high_low</th>\n",
       "      <td>291.411367</td>\n",
       "      <td>-1.859578</td>\n",
       "      <td>-3.693289</td>\n",
       "      <td>98.286085</td>\n",
       "      <td>0.734466</td>\n",
       "      <td>-0.072539</td>\n",
       "      <td>-2.055236</td>\n",
       "    </tr>\n",
       "    <tr>\n",
       "      <th>turnover_mean_5</th>\n",
       "      <td>-1.859578</td>\n",
       "      <td>0.041578</td>\n",
       "      <td>0.031214</td>\n",
       "      <td>-0.747577</td>\n",
       "      <td>0.007057</td>\n",
       "      <td>-0.012848</td>\n",
       "      <td>0.000506</td>\n",
       "    </tr>\n",
       "    <tr>\n",
       "      <th>p_std_5</th>\n",
       "      <td>-3.693289</td>\n",
       "      <td>0.031214</td>\n",
       "      <td>0.124926</td>\n",
       "      <td>-2.788925</td>\n",
       "      <td>-0.013772</td>\n",
       "      <td>-0.029966</td>\n",
       "      <td>0.052145</td>\n",
       "    </tr>\n",
       "    <tr>\n",
       "      <th>ma5_10</th>\n",
       "      <td>98.286085</td>\n",
       "      <td>-0.747577</td>\n",
       "      <td>-2.788925</td>\n",
       "      <td>158.150671</td>\n",
       "      <td>1.477952</td>\n",
       "      <td>2.373483</td>\n",
       "      <td>-1.708704</td>\n",
       "    </tr>\n",
       "    <tr>\n",
       "      <th>eps</th>\n",
       "      <td>0.734466</td>\n",
       "      <td>0.007057</td>\n",
       "      <td>-0.013772</td>\n",
       "      <td>1.477952</td>\n",
       "      <td>0.049602</td>\n",
       "      <td>0.042803</td>\n",
       "      <td>-0.034707</td>\n",
       "    </tr>\n",
       "    <tr>\n",
       "      <th>large_marketcap</th>\n",
       "      <td>-0.072539</td>\n",
       "      <td>-0.012848</td>\n",
       "      <td>-0.029966</td>\n",
       "      <td>2.373483</td>\n",
       "      <td>0.042803</td>\n",
       "      <td>0.136918</td>\n",
       "      <td>-0.080037</td>\n",
       "    </tr>\n",
       "    <tr>\n",
       "      <th>small_marketcap</th>\n",
       "      <td>-2.055236</td>\n",
       "      <td>0.000506</td>\n",
       "      <td>0.052145</td>\n",
       "      <td>-1.708704</td>\n",
       "      <td>-0.034707</td>\n",
       "      <td>-0.080037</td>\n",
       "      <td>0.107513</td>\n",
       "    </tr>\n",
       "  </tbody>\n",
       "</table>\n",
       "</div>"
      ],
      "text/plain": [
       "                   high_low  turnover_mean_5   p_std_5      ma5_10       eps  \\\n",
       "high_low         291.411367        -1.859578 -3.693289   98.286085  0.734466   \n",
       "turnover_mean_5   -1.859578         0.041578  0.031214   -0.747577  0.007057   \n",
       "p_std_5           -3.693289         0.031214  0.124926   -2.788925 -0.013772   \n",
       "ma5_10            98.286085        -0.747577 -2.788925  158.150671  1.477952   \n",
       "eps                0.734466         0.007057 -0.013772    1.477952  0.049602   \n",
       "large_marketcap   -0.072539        -0.012848 -0.029966    2.373483  0.042803   \n",
       "small_marketcap   -2.055236         0.000506  0.052145   -1.708704 -0.034707   \n",
       "\n",
       "                 large_marketcap  small_marketcap  \n",
       "high_low               -0.072539        -2.055236  \n",
       "turnover_mean_5        -0.012848         0.000506  \n",
       "p_std_5                -0.029966         0.052145  \n",
       "ma5_10                  2.373483        -1.708704  \n",
       "eps                     0.042803        -0.034707  \n",
       "large_marketcap         0.136918        -0.080037  \n",
       "small_marketcap        -0.080037         0.107513  "
      ]
     },
     "execution_count": 42,
     "metadata": {},
     "output_type": "execute_result"
    }
   ],
   "source": [
    "factor_cov = factor_df.cov()\n",
    "factor_cov"
   ]
  },
  {
   "cell_type": "code",
   "execution_count": 43,
   "metadata": {},
   "outputs": [
    {
     "data": {
      "text/plain": [
       "array([[0.97348762, 0.        , 0.        , ..., 0.        , 0.        ,\n",
       "        0.        ],\n",
       "       [0.        , 1.0176813 , 0.        , ..., 0.        , 0.        ,\n",
       "        0.        ],\n",
       "       [0.        , 0.        , 6.36433766, ..., 0.        , 0.        ,\n",
       "        0.        ],\n",
       "       ...,\n",
       "       [0.        , 0.        , 0.        , ..., 2.00192256, 0.        ,\n",
       "        0.        ],\n",
       "       [0.        , 0.        , 0.        , ..., 0.        , 1.8417316 ,\n",
       "        0.        ],\n",
       "       [0.        , 0.        , 0.        , ..., 0.        , 0.        ,\n",
       "        1.95652904]])"
      ]
     },
     "execution_count": 43,
     "metadata": {},
     "output_type": "execute_result"
    }
   ],
   "source": [
    "sp_factor_var = sp_factor_df.var()\n",
    "sp_factor_diag_cov = np.diag(sp_factor_var)\n",
    "sp_factor_diag_cov"
   ]
  },
  {
   "cell_type": "code",
   "execution_count": 46,
   "metadata": {},
   "outputs": [
    {
     "data": {
      "text/plain": [
       "(287, 7)"
      ]
     },
     "execution_count": 46,
     "metadata": {},
     "output_type": "execute_result"
    }
   ],
   "source": [
    "last_dt = panel.items.values[-1]\n",
    "last_data = panel[last_dt]\n",
    "last_data['large_marketcap'] = last_data['market_cap'].apply(lambda x:int(x > last_data['market_cap'].quantile(.7)))\n",
    "last_data['small_marketcap'] = last_data['market_cap'].apply(lambda x:int(x < last_data['market_cap'].quantile(.3)))\n",
    "x_data = last_data.drop(columns=['p_change','market_cap'])\n",
    "X = np.array(x_data)\n",
    "X.shape"
   ]
  },
  {
   "cell_type": "code",
   "execution_count": 47,
   "metadata": {},
   "outputs": [
    {
     "data": {
      "text/plain": [
       "array([[1.17460817, 0.19254739, 0.21268872, ..., 0.26878575, 0.23896422,\n",
       "        0.07391803],\n",
       "       [0.19254739, 1.21594537, 0.22806268, ..., 0.27225924, 0.23152133,\n",
       "        0.09842828],\n",
       "       [0.21268872, 0.22806268, 7.35179882, ..., 0.49265818, 0.36529409,\n",
       "        0.53373418],\n",
       "       ...,\n",
       "       [0.26878575, 0.27225924, 0.49265818, ..., 2.43799188, 0.36787341,\n",
       "        0.21577044],\n",
       "       [0.23896422, 0.23152133, 0.36529409, ..., 0.36787341, 2.18946417,\n",
       "        0.13383846],\n",
       "       [0.07391803, 0.09842828, 0.53373418, ..., 0.21577044, 0.13383846,\n",
       "        2.28786376]])"
      ]
     },
     "execution_count": 47,
     "metadata": {},
     "output_type": "execute_result"
    }
   ],
   "source": [
    "Sigma = np.dot(np.dot(X, np.array(factor_cov)), X.T) + sp_factor_diag_cov\n",
    "Sigma"
   ]
  },
  {
   "cell_type": "code",
   "execution_count": 48,
   "metadata": {},
   "outputs": [
    {
     "data": {
      "text/plain": [
       "array([-0.14977089, -0.0849185 ,  0.04032359,  5.35645548,  0.03525533,\n",
       "       -0.13401327,  0.01727299])"
      ]
     },
     "execution_count": 48,
     "metadata": {},
     "output_type": "execute_result"
    }
   ],
   "source": [
    "factor_mu = np.array(factor_df.mean())\n",
    "factor_mu"
   ]
  },
  {
   "cell_type": "code",
   "execution_count": 49,
   "metadata": {},
   "outputs": [
    {
     "data": {
      "text/plain": [
       "(287,)"
      ]
     },
     "execution_count": 49,
     "metadata": {},
     "output_type": "execute_result"
    }
   ],
   "source": [
    "sp_factor_mu = np.array(sp_factor_df.mean())\n",
    "sp_factor_mu.shape"
   ]
  },
  {
   "cell_type": "code",
   "execution_count": 50,
   "metadata": {},
   "outputs": [
    {
     "data": {
      "text/plain": [
       "(287,)"
      ]
     },
     "execution_count": 50,
     "metadata": {},
     "output_type": "execute_result"
    }
   ],
   "source": [
    "mu = np.dot(X,factor_mu)+sp_factor_mu\n",
    "mu.shape"
   ]
  },
  {
   "cell_type": "code",
   "execution_count": 51,
   "metadata": {},
   "outputs": [
    {
     "data": {
      "text/plain": [
       "0.9054326408883626"
      ]
     },
     "execution_count": 51,
     "metadata": {},
     "output_type": "execute_result"
    }
   ],
   "source": [
    "import cvxpy as cvx\n",
    "w = cvx.Variable(len(X))\n",
    "gamma = 0.5\n",
    "ret = mu.T*w \n",
    "risk = cvx.quad_form(w, Sigma)\n",
    "prob = cvx.Problem(cvx.Maximize(ret - gamma*risk), \n",
    "               [cvx.sum(w) <= 1, w >= 0])\n",
    "prob.solve()"
   ]
  },
  {
   "cell_type": "code",
   "execution_count": 52,
   "metadata": {},
   "outputs": [
    {
     "data": {
      "text/plain": [
       "000001    5.447284e-13\n",
       "000002    3.779548e-13\n",
       "000008    6.110023e-03\n",
       "000060    6.071829e-13\n",
       "000063    1.282621e-12\n",
       "dtype: float64"
      ]
     },
     "execution_count": 52,
     "metadata": {},
     "output_type": "execute_result"
    }
   ],
   "source": [
    "pd.Series(w.value, index=panel.major_axis).head()"
   ]
  },
  {
   "cell_type": "markdown",
   "metadata": {},
   "source": [
    "### 因子中性 —— eg. 市值中性"
   ]
  },
  {
   "cell_type": "code",
   "execution_count": 55,
   "metadata": {},
   "outputs": [
    {
     "data": {
      "text/plain": [
       "0.6940106168090259"
      ]
     },
     "execution_count": 55,
     "metadata": {},
     "output_type": "execute_result"
    }
   ],
   "source": [
    "import cvxpy as cvx\n",
    "w = cvx.Variable(len(X))\n",
    "gamma = 0.5\n",
    "ret = mu.T*w \n",
    "risk = cvx.quad_form(w, Sigma)\n",
    "\n",
    "large_weight = np.array(x_data['large_marketcap']).T*w\n",
    "small_weight = np.array(x_data['small_marketcap']).T*w\n",
    "prob = cvx.Problem(cvx.Maximize(ret - gamma*risk), \n",
    "               [cvx.sum(w) <= 1,\n",
    "               large_weight == 0, small_weight == 0])\n",
    "prob.solve()"
   ]
  },
  {
   "cell_type": "code",
   "execution_count": 56,
   "metadata": {},
   "outputs": [
    {
     "data": {
      "text/plain": [
       "000001    4.163983e-14\n",
       "000002    2.108290e-14\n",
       "000008    2.981469e-15\n",
       "000060    8.212897e-13\n",
       "000063    1.509737e-13\n",
       "dtype: float64"
      ]
     },
     "execution_count": 56,
     "metadata": {},
     "output_type": "execute_result"
    }
   ],
   "source": [
    "pd.Series(w.value, index=panel.major_axis).head()"
   ]
  },
  {
   "cell_type": "code",
   "execution_count": null,
   "metadata": {},
   "outputs": [],
   "source": []
  }
 ],
 "metadata": {
  "kernelspec": {
   "display_name": "Python 3",
   "language": "python",
   "name": "python3"
  },
  "language_info": {
   "codemirror_mode": {
    "name": "ipython",
    "version": 3
   },
   "file_extension": ".py",
   "mimetype": "text/x-python",
   "name": "python",
   "nbconvert_exporter": "python",
   "pygments_lexer": "ipython3",
   "version": "3.6.4"
  }
 },
 "nbformat": 4,
 "nbformat_minor": 2
}
